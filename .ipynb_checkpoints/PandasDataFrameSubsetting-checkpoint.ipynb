{
 "cells": [
  {
   "cell_type": "code",
   "execution_count": 8,
   "metadata": {},
   "outputs": [
    {
     "name": "stdout",
     "output_type": "stream",
     "text": [
      "   Age        Born        Died               Name     Occupation\n",
      "0   37  1920-07-25  1958-04-16  Rosaline Franklin        Chemist\n",
      "1   61  1876-06-13  1937-10-16     William Gosset   Statistician\n",
      "2   71  1876-06-13  1947-10-16    Albert Einstein  Mathematician\n",
      "3   41  1876-06-13  1927-10-16             Newton  Mathematician\n",
      "--------------\n",
      "   Age        Born        Died             Name     Occupation\n",
      "1   61  1876-06-13  1937-10-16   William Gosset   Statistician\n",
      "2   71  1876-06-13  1947-10-16  Albert Einstein  Mathematician\n"
     ]
    }
   ],
   "source": [
    "import pandas as pd\n",
    "scientists = pd.DataFrame({\n",
    "    'Name': ['Rosaline Franklin', 'William Gosset','Albert Einstein','Newton'],\n",
    "    'Occupation': ['Chemist', 'Statistician','Mathematician','Mathematician'],\n",
    "    'Born': ['1920-07-25', '1876-06-13','1876-06-13','1876-06-13'],\n",
    "    'Died': ['1958-04-16', '1937-10-16','1947-10-16','1927-10-16'],\n",
    "    'Age': [37, 61,71,41]})\n",
    "print(scientists)\n",
    "print('--------------')\n",
    "print(scientists[scientists['Age'] > scientists['Age'].mean()])"
   ]
  },
  {
   "cell_type": "code",
   "execution_count": 9,
   "metadata": {},
   "outputs": [
    {
     "name": "stdout",
     "output_type": "stream",
     "text": [
      "   Age        Born        Died               Name Occupation\n",
      "0   37  1920-07-25  1958-04-16  Rosaline Franklin    Chemist\n"
     ]
    }
   ],
   "source": [
    "# 4 values passed as a bool vector\n",
    "# 3 rows returned\n",
    "print(scientists.loc[[True, False]])"
   ]
  },
  {
   "cell_type": "code",
   "execution_count": 11,
   "metadata": {},
   "outputs": [
    {
     "name": "stdout",
     "output_type": "stream",
     "text": [
      "   Age        Born        Died               Name    Occupation\n",
      "0   37  1920-07-25  1958-04-16  Rosaline Franklin       Chemist\n",
      "1   61  1876-06-13  1937-10-16     William Gosset  Statistician\n",
      "   Age        Born        Died             Name     Occupation\n",
      "2   71  1876-06-13  1947-10-16  Albert Einstein  Mathematician\n",
      "3   41  1876-06-13  1927-10-16           Newton  Mathematician\n"
     ]
    }
   ],
   "source": [
    "first_half = scientists[:2]\n",
    "second_half = scientists[2:]\n",
    "\n",
    "print(first_half)\n",
    "print(second_half)"
   ]
  },
  {
   "cell_type": "code",
   "execution_count": 12,
   "metadata": {},
   "outputs": [
    {
     "name": "stdout",
     "output_type": "stream",
     "text": [
      "   Age                  Born                  Died  \\\n",
      "0   74  1920-07-251920-07-25  1958-04-161958-04-16   \n",
      "1  122  1876-06-131876-06-13  1937-10-161937-10-16   \n",
      "2  142  1876-06-131876-06-13  1947-10-161947-10-16   \n",
      "3   82  1876-06-131876-06-13  1927-10-161927-10-16   \n",
      "\n",
      "                                 Name                  Occupation  \n",
      "0  Rosaline FranklinRosaline Franklin              ChemistChemist  \n",
      "1        William GossetWilliam Gosset    StatisticianStatistician  \n",
      "2      Albert EinsteinAlbert Einstein  MathematicianMathematician  \n",
      "3                        NewtonNewton  MathematicianMathematician  \n"
     ]
    }
   ],
   "source": [
    "# multiply by a scalar , applies to all cells\n",
    "print(scientists * 2)"
   ]
  }
 ],
 "metadata": {
  "kernelspec": {
   "display_name": "Python 3",
   "language": "python",
   "name": "python3"
  },
  "language_info": {
   "codemirror_mode": {
    "name": "ipython",
    "version": 3
   },
   "file_extension": ".py",
   "mimetype": "text/x-python",
   "name": "python",
   "nbconvert_exporter": "python",
   "pygments_lexer": "ipython3",
   "version": "3.6.3"
  }
 },
 "nbformat": 4,
 "nbformat_minor": 2
}
