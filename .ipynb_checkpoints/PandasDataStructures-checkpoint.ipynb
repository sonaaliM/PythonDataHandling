{
 "cells": [
  {
   "cell_type": "code",
   "execution_count": null,
   "metadata": {},
   "outputs": [],
   "source": [
    "#CREATING YOUR OWN DATA"
   ]
  },
  {
   "cell_type": "code",
   "execution_count": 1,
   "metadata": {},
   "outputs": [
    {
     "name": "stdout",
     "output_type": "stream",
     "text": [
      "0    banana\n",
      "1        42\n"
     ]
    },
    {
     "data": {
      "text/plain": [
       "dtype('object')"
      ]
     },
     "execution_count": 1,
     "metadata": {},
     "output_type": "execute_result"
    }
   ],
   "source": [
    "import pandas as pd\n",
    "\n",
    "s = pd.Series(['banana', 42]) #similar to list , represents 1 col of dataframe , shld be of same type\n",
    "print(s)\n",
    "s.dtype #if mixed types are used, common of both is used"
   ]
  },
  {
   "cell_type": "code",
   "execution_count": 2,
   "metadata": {},
   "outputs": [
    {
     "name": "stdout",
     "output_type": "stream",
     "text": [
      "Person         Wes McKinney\n",
      "Who       Creator of Pandas\n"
     ]
    }
   ],
   "source": [
    "# manually assign index values to a series\n",
    "# by passing a Python list\n",
    "s = pd.Series(['Wes McKinney', 'Creator of Pandas'],\n",
    "              index=['Person', 'Who'])\n",
    "print(s)"
   ]
  },
  {
   "cell_type": "code",
   "execution_count": 3,
   "metadata": {},
   "outputs": [
    {
     "name": "stdout",
     "output_type": "stream",
     "text": [
      "   Age        Born        Died               Name    Occupation\n",
      "0   37  1920-07-25  1958-04-16  Rosaline Franklin       Chemist\n",
      "1   61  1876-06-13  1937-10-16     William Gosset  Statistician\n"
     ]
    }
   ],
   "source": [
    "#Creating DataFrame : using dicts , key => col name , values => rows\n",
    "scientists = pd.DataFrame({\n",
    "    'Name': ['Rosaline Franklin', 'William Gosset'],\n",
    "    'Occupation': ['Chemist', 'Statistician'],\n",
    "    'Born': ['1920-07-25', '1876-06-13'],\n",
    "    'Died': ['1958-04-16', '1937-10-16'],\n",
    "    'Age': [37, 61]})\n",
    "print(scientists) # Order is not guaranteed because python dictionaries are not ordered"
   ]
  },
  {
   "cell_type": "code",
   "execution_count": 4,
   "metadata": {},
   "outputs": [
    {
     "name": "stdout",
     "output_type": "stream",
     "text": [
      "                     Occupation        Born        Died  Age\n",
      "Rosaline Franklin       Chemist  1920-07-25  1958-04-16   37\n",
      "William Gosset     Statistician  1876-06-13  1937-10-16   61\n"
     ]
    }
   ],
   "source": [
    "#specifying index\n",
    "scientists = pd.DataFrame(\n",
    "    data={'Occupation': ['Chemist', 'Statistician'],\n",
    "          'Born': ['1920-07-25', '1876-06-13'],\n",
    "          'Died': ['1958-04-16', '1937-10-16'],\n",
    "    'Age': [37, 61]},\n",
    "    index=['Rosaline Franklin', 'William Gosset'],\n",
    "    columns=['Occupation', 'Born', 'Died', 'Age'])\n",
    "print(scientists)"
   ]
  },
  {
   "cell_type": "code",
   "execution_count": 5,
   "metadata": {},
   "outputs": [
    {
     "name": "stdout",
     "output_type": "stream",
     "text": [
      "   Age        Born        Died               Name    Occupation\n",
      "0   37  1920-07-25  1958-04-16  Rosaline Franklin       Chemist\n",
      "1   61  1876-06-13  1937-10-16     William Gosset  Statistician\n"
     ]
    }
   ],
   "source": [
    "#Use OrderedDict to maintain order\n",
    "from collections import OrderedDict\n",
    "\n",
    "# note the round brackets after OrderedDict\n",
    "# then we pass a list of 2-tuples\n",
    "scientists = pd.DataFrame(OrderedDict([\n",
    "    ('Name', ['Rosaline Franklin', 'William Gosset']),\n",
    "    ('Occupation', ['Chemist', 'Statistician']),\n",
    "    ('Born', ['1920-07-25', '1876-06-13']),\n",
    "    ('Died', ['1958-04-16', '1937-10-16']),\n",
    "    ('Age', [37, 61])\n",
    "    ])\n",
    ")\n",
    "print(scientists)"
   ]
  },
  {
   "cell_type": "code",
   "execution_count": 11,
   "metadata": {},
   "outputs": [
    {
     "data": {
      "text/html": [
       "<div style=\"max-height:1000px;max-width:1500px;overflow:auto;\">\n",
       "<table border=\"1\" class=\"dataframe\">\n",
       "  <thead>\n",
       "    <tr style=\"text-align: right;\">\n",
       "      <th></th>\n",
       "      <th>Occupation</th>\n",
       "      <th>Born</th>\n",
       "      <th>Died</th>\n",
       "      <th>Age</th>\n",
       "    </tr>\n",
       "  </thead>\n",
       "  <tbody>\n",
       "    <tr>\n",
       "      <td><strong>Rosaline Franklin</strong></td>\n",
       "      <td>      Chemist</td>\n",
       "      <td> 1920-07-25</td>\n",
       "      <td> 1958-04-16</td>\n",
       "      <td> 37</td>\n",
       "    </tr>\n",
       "    <tr>\n",
       "      <td><strong>William Gosset</strong></td>\n",
       "      <td> Statistician</td>\n",
       "      <td> 1876-06-13</td>\n",
       "      <td> 1937-10-16</td>\n",
       "      <td> 61</td>\n",
       "    </tr>\n",
       "  </tbody>\n",
       "</table>\n",
       "</div>"
      ],
      "text/plain": [
       "                     Occupation        Born        Died  Age\n",
       "Rosaline Franklin       Chemist  1920-07-25  1958-04-16   37\n",
       "William Gosset     Statistician  1876-06-13  1937-10-16   61"
      ]
     },
     "execution_count": 11,
     "metadata": {},
     "output_type": "execute_result"
    }
   ],
   "source": [
    "# Using Series\n",
    "# create our example dataframe\n",
    "# with a row index label\n",
    "scientists = pd.DataFrame(\n",
    "    data={'Occupation': ['Chemist', 'Statistician'],\n",
    "          'Born': ['1920-07-25', '1876-06-13'],\n",
    "          'Died': ['1958-04-16', '1937-10-16'],\n",
    "    'Age': [37, 61]},\n",
    "    index=['Rosaline Franklin', 'William Gosset'],\n",
    "    columns=['Occupation', 'Born', 'Died', 'Age'])\n",
    "scientists"
   ]
  },
  {
   "cell_type": "code",
   "execution_count": 7,
   "metadata": {},
   "outputs": [
    {
     "name": "stdout",
     "output_type": "stream",
     "text": [
      "<class 'pandas.core.series.Series'>\n",
      "Occupation    Statistician\n",
      "Born            1876-06-13\n",
      "Died            1937-10-16\n",
      "Age                     61\n",
      "Name: William Gosset\n",
      "array([Occupation, Born, Died, Age], dtype=object)\n",
      "[Statistician 1876-06-13 1937-10-16 61]\n",
      "array([Occupation, Born, Died, Age], dtype=object)\n"
     ]
    }
   ],
   "source": [
    "# select by row index label \n",
    "#first_row = scientists.loc['William Gosset']\n",
    "first_row = scientists.ix['William Gosset']\n",
    "print(type(first_row))\n",
    "print(first_row) #Col is printed as index\n",
    "print(first_row.index)\n",
    "print(first_row.values)\n",
    "print(first_row.keys()) #same as index"
   ]
  },
  {
   "cell_type": "code",
   "execution_count": 20,
   "metadata": {},
   "outputs": [
    {
     "name": "stdout",
     "output_type": "stream",
     "text": [
      "Occupation\n",
      "Occupation\n"
     ]
    }
   ],
   "source": [
    "# get the first index using an attribute\n",
    "print(first_row.index[0])\n",
    "print(first_row.keys()[0])"
   ]
  },
  {
   "cell_type": "code",
   "execution_count": 22,
   "metadata": {},
   "outputs": [
    {
     "name": "stdout",
     "output_type": "stream",
     "text": [
      "Rosaline Franklin    37\n",
      "William Gosset       61\n",
      "Name: Age\n",
      "49.0\n",
      "37\n",
      "61\n",
      "16.9705627485\n"
     ]
    }
   ],
   "source": [
    "#Calculations on series\n",
    "ages = scientists['Age']\n",
    "print(ages)\n",
    "print(ages.mean())\n",
    "print(ages.min())\n",
    "print(ages.max())\n",
    "print(ages.std())"
   ]
  },
  {
   "cell_type": "code",
   "execution_count": 9,
   "metadata": {},
   "outputs": [
    {
     "name": "stdout",
     "output_type": "stream",
     "text": [
      "object\n",
      "object\n",
      "Rosaline Franklin   1920-07-25 00:00:00\n",
      "William Gosset      1876-06-13 00:00:00\n",
      "Name: Born\n",
      "Rosaline Franklin   1958-04-16 00:00:00\n",
      "William Gosset      1937-10-16 00:00:00\n",
      "Name: Died\n"
     ]
    }
   ],
   "source": [
    "#MAKING CHANGES TO SERIES AND DATAFRAMES\n",
    "print(scientists['Born'].dtype)\n",
    "print(scientists['Died'].dtype)\n",
    "#Convert to date time\n",
    "born_datetime = pd.to_datetime(scientists['Born']) #,format='%Y-%m-%d'\n",
    "print(born_datetime)\n",
    "died_datetime = pd.to_datetime(scientists['Died'])\n",
    "print(died_datetime)"
   ]
  },
  {
   "cell_type": "code",
   "execution_count": 10,
   "metadata": {},
   "outputs": [
    {
     "data": {
      "text/html": [
       "<div style=\"max-height:1000px;max-width:1500px;overflow:auto;\">\n",
       "<table border=\"1\" class=\"dataframe\">\n",
       "  <thead>\n",
       "    <tr style=\"text-align: right;\">\n",
       "      <th></th>\n",
       "      <th>Occupation</th>\n",
       "      <th>Born</th>\n",
       "      <th>Died</th>\n",
       "      <th>Age</th>\n",
       "    </tr>\n",
       "  </thead>\n",
       "  <tbody>\n",
       "    <tr>\n",
       "      <td><strong>Rosaline Franklin</strong></td>\n",
       "      <td>      Chemist</td>\n",
       "      <td>1920-07-25 00:00:00</td>\n",
       "      <td>1958-04-16 00:00:00</td>\n",
       "      <td> 37</td>\n",
       "    </tr>\n",
       "    <tr>\n",
       "      <td><strong>William Gosset</strong></td>\n",
       "      <td> Statistician</td>\n",
       "      <td>1876-06-13 00:00:00</td>\n",
       "      <td>1937-10-16 00:00:00</td>\n",
       "      <td> 61</td>\n",
       "    </tr>\n",
       "  </tbody>\n",
       "</table>\n",
       "</div>"
      ],
      "text/plain": [
       "                     Occupation                Born                Died  Age\n",
       "Rosaline Franklin       Chemist 1920-07-25 00:00:00 1958-04-16 00:00:00   37\n",
       "William Gosset     Statistician 1876-06-13 00:00:00 1937-10-16 00:00:00   61"
      ]
     },
     "execution_count": 10,
     "metadata": {},
     "output_type": "execute_result"
    }
   ],
   "source": [
    "scientists['Born'], scientists['Died'] = (born_datetime,died_datetime)\n",
    "scientists"
   ]
  }
 ],
 "metadata": {
  "kernelspec": {
   "display_name": "Python 3",
   "language": "python",
   "name": "python3"
  },
  "language_info": {
   "codemirror_mode": {
    "name": "ipython",
    "version": 3
   },
   "file_extension": ".py",
   "mimetype": "text/x-python",
   "name": "python",
   "nbconvert_exporter": "python",
   "pygments_lexer": "ipython3",
   "version": "3.6.3"
  }
 },
 "nbformat": 4,
 "nbformat_minor": 1
}
