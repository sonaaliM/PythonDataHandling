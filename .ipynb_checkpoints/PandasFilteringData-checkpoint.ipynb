{
 "cells": [
  {
   "cell_type": "code",
   "execution_count": 7,
   "metadata": {},
   "outputs": [
    {
     "name": "stdout",
     "output_type": "stream",
     "text": [
      "C:\\Users\\munason\\Python Scripts\\datasets\\housing\\housing.csv\n",
      "<class 'pandas.core.frame.DataFrame'>\n",
      "(20640, 10)\n",
      "<class 'pandas.core.frame.DataFrame'>\n",
      "Int64Index: 5 entries, 0 to 4\n",
      "Data columns:\n",
      "longitude             5  non-null values\n",
      "latitude              5  non-null values\n",
      "housing_median_age    5  non-null values\n",
      "total_rooms           5  non-null values\n",
      "total_bedrooms        5  non-null values\n",
      "population            5  non-null values\n",
      "households            5  non-null values\n",
      "median_income         5  non-null values\n",
      "median_house_value    5  non-null values\n",
      "ocean_proximity       5  non-null values\n",
      "dtypes: float64(9), object(1)\n"
     ]
    }
   ],
   "source": [
    "import pandas as pd\n",
    "import numpy as np\n",
    "from pandas import Series, DataFrame\n",
    "import os\n",
    "import matplotlib\n",
    "\n",
    "HOUSING_PATH = os.path.join(\"C:\\Users\\munason\\Python Scripts\\datasets\", \"housing\")\n",
    "csv_path = os.path.join(HOUSING_PATH, \"housing.csv\")\n",
    "print(csv_path)\n",
    "df = pd.read_csv(csv_path)\n",
    "print(type(df))   #NOTE : type is handy util of python to check datatype\n",
    "print(df.shape)\n",
    "print(df.head())"
   ]
  },
  {
   "cell_type": "code",
   "execution_count": 10,
   "metadata": {},
   "outputs": [
    {
     "name": "stdout",
     "output_type": "stream",
     "text": [
      "0    NEAR BAY\n",
      "1    NEAR BAY\n",
      "2    NEAR BAY\n",
      "3    NEAR BAY\n",
      "4    NEAR BAY\n",
      "Name: ocean_proximity\n",
      "count         20640\n",
      "unique            5\n",
      "top       <1H OCEAN\n",
      "freq           9136\n"
     ]
    }
   ],
   "source": [
    "occeanProxim = df['ocean_proximity']\n",
    "print(occeanProxim.head())\n",
    "print(occeanProxim.describe())"
   ]
  },
  {
   "cell_type": "code",
   "execution_count": 13,
   "metadata": {},
   "outputs": [
    {
     "name": "stdout",
     "output_type": "stream",
     "text": [
      "0    8.3252\n",
      "1    8.3014\n",
      "2    7.2574\n",
      "3    5.6431\n",
      "4    3.8462\n",
      "Name: median_income\n",
      "0    8.3252\n",
      "1    8.3014\n",
      "2    7.2574\n",
      "3    5.6431\n",
      "5    4.0368\n",
      "Name: median_income\n"
     ]
    }
   ],
   "source": [
    "median_income = df['median_income']\n",
    "print(median_income.head())\n",
    "print(median_income[median_income > median_income.mean()].head())"
   ]
  },
  {
   "cell_type": "code",
   "execution_count": 17,
   "metadata": {},
   "outputs": [
    {
     "name": "stdout",
     "output_type": "stream",
     "text": [
      "0     True\n",
      "1     True\n",
      "2     True\n",
      "3     True\n",
      "4    False\n",
      "Name: median_income\n",
      "<class 'pandas.core.series.Series'>\n"
     ]
    }
   ],
   "source": [
    "print((median_income > median_income.mean()).head()) #Note : this returns a series with boolean value for each row\n",
    "print(type(median_income > median_income.mean()))"
   ]
  },
  {
   "cell_type": "code",
   "execution_count": 19,
   "metadata": {},
   "outputs": [
    {
     "name": "stdout",
     "output_type": "stream",
     "text": [
      "0    8.3252\n",
      "1    8.3014\n",
      "4    3.8462\n",
      "5    4.0368\n",
      "7    3.1200\n",
      "9    3.6912\n",
      "Name: median_income\n"
     ]
    }
   ],
   "source": [
    "# ****IMP**** get index 0, 1, 4, 5,7 and 9\n",
    "manual_bool_values = [True, True, False, False, True, True, False, True,False,True] #True will retreive the row\n",
    "print(median_income[manual_bool_values])"
   ]
  },
  {
   "cell_type": "code",
   "execution_count": 21,
   "metadata": {},
   "outputs": [
    {
     "name": "stdout",
     "output_type": "stream",
     "text": [
      "0    16.6504\n",
      "1    16.6028\n",
      "4     7.6924\n",
      "5     8.0736\n",
      "7     6.2400\n",
      "9     7.3824\n",
      "Name: median_income\n",
      "0    33.3008\n",
      "1    33.2056\n",
      "4    15.3848\n",
      "5    16.1472\n",
      "7    12.4800\n",
      "9    14.7648\n",
      "Name: median_income\n"
     ]
    }
   ],
   "source": [
    "#Broadcasting : Operations Are Automatically Aligned and Vectorized\n",
    "#Vectors Of Same Length\n",
    "print(median_income[manual_bool_values] + median_income[manual_bool_values])\n",
    "print(median_income[manual_bool_values] * 4)"
   ]
  },
  {
   "cell_type": "code",
   "execution_count": 23,
   "metadata": {},
   "outputs": [
    {
     "name": "stdout",
     "output_type": "stream",
     "text": [
      "0     9.3252\n",
      "1    18.3014\n",
      "4        NaN\n",
      "5        NaN\n",
      "7        NaN\n",
      "9        NaN\n"
     ]
    }
   ],
   "source": [
    "#Vectors With Different Lengths\n",
    "#behavior will depend on the type of the vectors\n",
    "#with Series, vectors will preform an operation matched by the index with missing values as NAN\n",
    "print(median_income[manual_bool_values] + pd.Series([1, 10]))"
   ]
  },
  {
   "cell_type": "code",
   "execution_count": 25,
   "metadata": {},
   "outputs": [],
   "source": [
    "#With other types, the shapes must match\n",
    "#print(median_income[manual_bool_values] + np.array([1, 10]))"
   ]
  },
  {
   "cell_type": "code",
   "execution_count": 28,
   "metadata": {},
   "outputs": [
    {
     "name": "stdout",
     "output_type": "stream",
     "text": [
      "9    3.6912\n",
      "7    3.1200\n",
      "5    4.0368\n",
      "4    3.8462\n",
      "1    8.3014\n",
      "0    8.3252\n",
      "Name: median_income\n",
      "0    16.6504\n",
      "1    16.6028\n",
      "4     7.6924\n",
      "5     8.0736\n",
      "7     6.2400\n",
      "9     7.3824\n",
      "Name: median_income\n",
      "0    16.6504\n",
      "1    16.6028\n",
      "4     7.6924\n",
      "5     8.0736\n",
      "7     6.2400\n",
      "9     7.3824\n",
      "Name: median_income\n"
     ]
    }
   ],
   "source": [
    "#Automatic Alignment for permforming oprn\n",
    "rev_income = median_income[manual_bool_values].sort_index(ascending=False)\n",
    "print(rev_income)\n",
    "print(median_income[manual_bool_values] * 2)\n",
    "print(median_income[manual_bool_values] + rev_income)"
   ]
  }
 ],
 "metadata": {
  "kernelspec": {
   "display_name": "Python 3",
   "language": "python",
   "name": "python3"
  },
  "language_info": {
   "codemirror_mode": {
    "name": "ipython",
    "version": 3
   },
   "file_extension": ".py",
   "mimetype": "text/x-python",
   "name": "python",
   "nbconvert_exporter": "python",
   "pygments_lexer": "ipython3",
   "version": "3.6.3"
  }
 },
 "nbformat": 4,
 "nbformat_minor": 1
}
