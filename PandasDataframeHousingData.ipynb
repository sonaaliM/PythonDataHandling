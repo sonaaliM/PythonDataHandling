{
 "cells": [
  {
   "cell_type": "code",
   "execution_count": 46,
   "metadata": {},
   "outputs": [
    {
     "name": "stdout",
     "output_type": "stream",
     "text": [
      "<class 'pandas.core.frame.DataFrame'>\n"
     ]
    },
    {
     "data": {
      "text/html": [
       "<div>\n",
       "<style scoped>\n",
       "    .dataframe tbody tr th:only-of-type {\n",
       "        vertical-align: middle;\n",
       "    }\n",
       "\n",
       "    .dataframe tbody tr th {\n",
       "        vertical-align: top;\n",
       "    }\n",
       "\n",
       "    .dataframe thead th {\n",
       "        text-align: right;\n",
       "    }\n",
       "</style>\n",
       "<table border=\"1\" class=\"dataframe\">\n",
       "  <thead>\n",
       "    <tr style=\"text-align: right;\">\n",
       "      <th></th>\n",
       "      <th>longitude</th>\n",
       "      <th>latitude</th>\n",
       "      <th>housing_median_age</th>\n",
       "      <th>total_rooms</th>\n",
       "      <th>total_bedrooms</th>\n",
       "      <th>population</th>\n",
       "      <th>households</th>\n",
       "      <th>median_income</th>\n",
       "      <th>median_house_value</th>\n",
       "      <th>ocean_proximity</th>\n",
       "    </tr>\n",
       "  </thead>\n",
       "  <tbody>\n",
       "    <tr>\n",
       "      <th>0</th>\n",
       "      <td>-122.23</td>\n",
       "      <td>37.88</td>\n",
       "      <td>41.0</td>\n",
       "      <td>880.0</td>\n",
       "      <td>129.0</td>\n",
       "      <td>322.0</td>\n",
       "      <td>126.0</td>\n",
       "      <td>8.3252</td>\n",
       "      <td>452600.0</td>\n",
       "      <td>NEAR BAY</td>\n",
       "    </tr>\n",
       "    <tr>\n",
       "      <th>1</th>\n",
       "      <td>-122.22</td>\n",
       "      <td>37.86</td>\n",
       "      <td>21.0</td>\n",
       "      <td>7099.0</td>\n",
       "      <td>1106.0</td>\n",
       "      <td>2401.0</td>\n",
       "      <td>1138.0</td>\n",
       "      <td>8.3014</td>\n",
       "      <td>358500.0</td>\n",
       "      <td>NEAR BAY</td>\n",
       "    </tr>\n",
       "    <tr>\n",
       "      <th>2</th>\n",
       "      <td>-122.24</td>\n",
       "      <td>37.85</td>\n",
       "      <td>52.0</td>\n",
       "      <td>1467.0</td>\n",
       "      <td>190.0</td>\n",
       "      <td>496.0</td>\n",
       "      <td>177.0</td>\n",
       "      <td>7.2574</td>\n",
       "      <td>352100.0</td>\n",
       "      <td>NEAR BAY</td>\n",
       "    </tr>\n",
       "    <tr>\n",
       "      <th>3</th>\n",
       "      <td>-122.25</td>\n",
       "      <td>37.85</td>\n",
       "      <td>52.0</td>\n",
       "      <td>1274.0</td>\n",
       "      <td>235.0</td>\n",
       "      <td>558.0</td>\n",
       "      <td>219.0</td>\n",
       "      <td>5.6431</td>\n",
       "      <td>341300.0</td>\n",
       "      <td>NEAR BAY</td>\n",
       "    </tr>\n",
       "    <tr>\n",
       "      <th>4</th>\n",
       "      <td>-122.25</td>\n",
       "      <td>37.85</td>\n",
       "      <td>52.0</td>\n",
       "      <td>1627.0</td>\n",
       "      <td>280.0</td>\n",
       "      <td>565.0</td>\n",
       "      <td>259.0</td>\n",
       "      <td>3.8462</td>\n",
       "      <td>342200.0</td>\n",
       "      <td>NEAR BAY</td>\n",
       "    </tr>\n",
       "  </tbody>\n",
       "</table>\n",
       "</div>"
      ],
      "text/plain": [
       "   longitude  latitude  housing_median_age  total_rooms  total_bedrooms  \\\n",
       "0    -122.23     37.88                41.0        880.0           129.0   \n",
       "1    -122.22     37.86                21.0       7099.0          1106.0   \n",
       "2    -122.24     37.85                52.0       1467.0           190.0   \n",
       "3    -122.25     37.85                52.0       1274.0           235.0   \n",
       "4    -122.25     37.85                52.0       1627.0           280.0   \n",
       "\n",
       "   population  households  median_income  median_house_value ocean_proximity  \n",
       "0       322.0       126.0         8.3252            452600.0        NEAR BAY  \n",
       "1      2401.0      1138.0         8.3014            358500.0        NEAR BAY  \n",
       "2       496.0       177.0         7.2574            352100.0        NEAR BAY  \n",
       "3       558.0       219.0         5.6431            341300.0        NEAR BAY  \n",
       "4       565.0       259.0         3.8462            342200.0        NEAR BAY  "
      ]
     },
     "execution_count": 46,
     "metadata": {},
     "output_type": "execute_result"
    }
   ],
   "source": [
    "#pandas dataframe\n",
    "import pandas as pd\n",
    "import numpy as np\n",
    "from pandas import Series, DataFrame\n",
    "import os\n",
    "import matplotlib\n",
    "\n",
    "HOUSING_PATH = os.path.join(\"datasets\", \"housing\")\n",
    "csv_path = os.path.join(HOUSING_PATH, \"housing.csv\")\n",
    "df = pd.read_csv(csv_path)\n",
    "print(type(df))   #NOTE : type is handy util of python to check datatype\n",
    "df.head()"
   ]
  },
  {
   "cell_type": "code",
   "execution_count": 2,
   "metadata": {},
   "outputs": [
    {
     "name": "stdout",
     "output_type": "stream",
     "text": [
      "(20640, 10) \n",
      " -----------------\n",
      "Index(['longitude', 'latitude', 'housing_median_age', 'total_rooms',\n",
      "       'total_bedrooms', 'population', 'households', 'median_income',\n",
      "       'median_house_value', 'ocean_proximity'],\n",
      "      dtype='object') \n",
      " -----------------\n",
      "longitude             float64\n",
      "latitude              float64\n",
      "housing_median_age    float64\n",
      "total_rooms           float64\n",
      "total_bedrooms        float64\n",
      "population            float64\n",
      "households            float64\n",
      "median_income         float64\n",
      "median_house_value    float64\n",
      "ocean_proximity        object\n",
      "dtype: object \n",
      " -----------------\n",
      "<class 'pandas.core.frame.DataFrame'>\n",
      "RangeIndex: 20640 entries, 0 to 20639\n",
      "Data columns (total 10 columns):\n",
      "longitude             20640 non-null float64\n",
      "latitude              20640 non-null float64\n",
      "housing_median_age    20640 non-null float64\n",
      "total_rooms           20640 non-null float64\n",
      "total_bedrooms        20433 non-null float64\n",
      "population            20640 non-null float64\n",
      "households            20640 non-null float64\n",
      "median_income         20640 non-null float64\n",
      "median_house_value    20640 non-null float64\n",
      "ocean_proximity       20640 non-null object\n",
      "dtypes: float64(9), object(1)\n",
      "memory usage: 1.6+ MB\n",
      "None \n",
      " -----------------\n"
     ]
    }
   ],
   "source": [
    "print(df.shape,\"\\n\",\"-----------------\")\n",
    "print(df.columns,\"\\n\",\"-----------------\")\n",
    "print(df.dtypes,\"\\n\",\"-----------------\")\n",
    "print(df.info(),\"\\n\",\"-----------------\")"
   ]
  },
  {
   "cell_type": "code",
   "execution_count": 3,
   "metadata": {},
   "outputs": [
    {
     "name": "stdout",
     "output_type": "stream",
     "text": [
      "0    NEAR BAY\n",
      "1    NEAR BAY\n",
      "2    NEAR BAY\n",
      "3    NEAR BAY\n",
      "4    NEAR BAY\n",
      "Name: ocean_proximity, dtype: object\n",
      "20635    INLAND\n",
      "20636    INLAND\n",
      "20637    INLAND\n",
      "20638    INLAND\n",
      "20639    INLAND\n",
      "Name: ocean_proximity, dtype: object\n"
     ]
    }
   ],
   "source": [
    "#Inspecting columns, row & cells\n",
    "#Subsetting Columns by Name\n",
    "occean_proxim_df = df['ocean_proximity']\n",
    "print(occean_proxim_df.head())\n",
    "print(occean_proxim_df.tail())"
   ]
  },
  {
   "cell_type": "code",
   "execution_count": 4,
   "metadata": {},
   "outputs": [
    {
     "name": "stdout",
     "output_type": "stream",
     "text": [
      "   latitude  longitude ocean_proximity\n",
      "0     37.88    -122.23        NEAR BAY\n",
      "1     37.86    -122.22        NEAR BAY\n",
      "2     37.85    -122.24        NEAR BAY\n",
      "3     37.85    -122.25        NEAR BAY\n",
      "4     37.85    -122.25        NEAR BAY\n",
      "       latitude  longitude ocean_proximity\n",
      "20635     39.48    -121.09          INLAND\n",
      "20636     39.49    -121.21          INLAND\n",
      "20637     39.43    -121.22          INLAND\n",
      "20638     39.43    -121.32          INLAND\n",
      "20639     39.37    -121.24          INLAND\n"
     ]
    }
   ],
   "source": [
    "#multiple columns\n",
    "subset = df[['latitude', 'longitude', 'ocean_proximity']]\n",
    "print(subset.head())\n",
    "print(subset.tail())"
   ]
  },
  {
   "cell_type": "code",
   "execution_count": 5,
   "metadata": {},
   "outputs": [
    {
     "name": "stdout",
     "output_type": "stream",
     "text": [
      "longitude              -122.23\n",
      "latitude                 37.88\n",
      "housing_median_age          41\n",
      "total_rooms                880\n",
      "total_bedrooms             129\n",
      "population                 322\n",
      "households                 126\n",
      "median_income           8.3252\n",
      "median_house_value      452600\n",
      "ocean_proximity       NEAR BAY\n",
      "Name: 0, dtype: object\n"
     ]
    }
   ],
   "source": [
    "#Subsetting Columns by Index Position\n",
    "# get the first row\n",
    "print(df.loc[0])"
   ]
  },
  {
   "cell_type": "code",
   "execution_count": 6,
   "metadata": {},
   "outputs": [
    {
     "name": "stdout",
     "output_type": "stream",
     "text": [
      "longitude            -121.24\n",
      "latitude               39.37\n",
      "housing_median_age        16\n",
      "total_rooms             2785\n",
      "total_bedrooms           616\n",
      "population              1387\n",
      "households               530\n",
      "median_income         2.3886\n",
      "median_house_value     89400\n",
      "ocean_proximity       INLAND\n",
      "Name: 20639, dtype: object\n",
      "last row using tail\n"
     ]
    },
    {
     "data": {
      "text/html": [
       "<div>\n",
       "<style scoped>\n",
       "    .dataframe tbody tr th:only-of-type {\n",
       "        vertical-align: middle;\n",
       "    }\n",
       "\n",
       "    .dataframe tbody tr th {\n",
       "        vertical-align: top;\n",
       "    }\n",
       "\n",
       "    .dataframe thead th {\n",
       "        text-align: right;\n",
       "    }\n",
       "</style>\n",
       "<table border=\"1\" class=\"dataframe\">\n",
       "  <thead>\n",
       "    <tr style=\"text-align: right;\">\n",
       "      <th></th>\n",
       "      <th>longitude</th>\n",
       "      <th>latitude</th>\n",
       "      <th>housing_median_age</th>\n",
       "      <th>total_rooms</th>\n",
       "      <th>total_bedrooms</th>\n",
       "      <th>population</th>\n",
       "      <th>households</th>\n",
       "      <th>median_income</th>\n",
       "      <th>median_house_value</th>\n",
       "      <th>ocean_proximity</th>\n",
       "    </tr>\n",
       "  </thead>\n",
       "  <tbody>\n",
       "    <tr>\n",
       "      <th>20639</th>\n",
       "      <td>-121.24</td>\n",
       "      <td>39.37</td>\n",
       "      <td>16.0</td>\n",
       "      <td>2785.0</td>\n",
       "      <td>616.0</td>\n",
       "      <td>1387.0</td>\n",
       "      <td>530.0</td>\n",
       "      <td>2.3886</td>\n",
       "      <td>89400.0</td>\n",
       "      <td>INLAND</td>\n",
       "    </tr>\n",
       "  </tbody>\n",
       "</table>\n",
       "</div>"
      ],
      "text/plain": [
       "       longitude  latitude  housing_median_age  total_rooms  total_bedrooms  \\\n",
       "20639    -121.24     39.37                16.0       2785.0           616.0   \n",
       "\n",
       "       population  households  median_income  median_house_value  \\\n",
       "20639      1387.0       530.0         2.3886             89400.0   \n",
       "\n",
       "      ocean_proximity  \n",
       "20639          INLAND  "
      ]
     },
     "execution_count": 6,
     "metadata": {},
     "output_type": "execute_result"
    }
   ],
   "source": [
    "# get the last row (correctly)\n",
    "number_of_rows = df.shape[0]\n",
    "\n",
    "# subtract 1 from the value since we want the last index value\n",
    "last_row_index = number_of_rows - 1\n",
    "\n",
    "# finally do the subset using the index of the last row\n",
    "print(df.loc[last_row_index])\n",
    "print(\"last row using tail\")\n",
    "df.tail(n=1)"
   ]
  },
  {
   "cell_type": "code",
   "execution_count": 7,
   "metadata": {},
   "outputs": [
    {
     "name": "stdout",
     "output_type": "stream",
     "text": [
      "<class 'pandas.core.series.Series'>\n",
      "<class 'pandas.core.frame.DataFrame'>\n"
     ]
    }
   ],
   "source": [
    "#NOTE : above printed output of loc & tail is diff due to difference in datatype\n",
    "subset_loc = df.loc[0]\n",
    "subset_head = df.head(n=1)\n",
    "\n",
    "# type using loc of 1 row\n",
    "print(type(subset_loc))\n",
    "\n",
    "# type of using head of 1 row\n",
    "print(type(subset_head))"
   ]
  },
  {
   "cell_type": "code",
   "execution_count": 8,
   "metadata": {},
   "outputs": [
    {
     "name": "stdout",
     "output_type": "stream",
     "text": [
      "     longitude  latitude  housing_median_age  total_rooms  total_bedrooms  \\\n",
      "0      -122.23     37.88                41.0        880.0           129.0   \n",
      "99     -122.26     37.82                37.0       3633.0          1085.0   \n",
      "999    -121.82     37.69                12.0       1906.0           351.0   \n",
      "\n",
      "     population  households  median_income  median_house_value ocean_proximity  \n",
      "0         322.0       126.0         8.3252            452600.0        NEAR BAY  \n",
      "99       1838.0       980.0         2.6104            193100.0        NEAR BAY  \n",
      "999       802.0       319.0         4.9375            227700.0          INLAND  \n"
     ]
    }
   ],
   "source": [
    "#Get multiple columns\n",
    "print(df.loc[[0, 99, 999]])"
   ]
  },
  {
   "cell_type": "code",
   "execution_count": 9,
   "metadata": {},
   "outputs": [],
   "source": [
    "#Subset Rows by Row Number - iloc\n",
    "#dfCopy = pd.read_csv(csv_path)\n",
    "#dfCopy.index = [i*10 for i in range(dfCopy.shape[0])]\n",
    "#last_row_index_dfcopy = (dfCopy.shape[0]-2)*10\n",
    "#print(last_row_index_dfcopy)\n",
    "#print(dfCopy.iloc[300])\n",
    "#dfCopy.tail(n=1)"
   ]
  },
  {
   "cell_type": "code",
   "execution_count": 11,
   "metadata": {},
   "outputs": [
    {
     "data": {
      "text/html": [
       "<div>\n",
       "<style scoped>\n",
       "    .dataframe tbody tr th:only-of-type {\n",
       "        vertical-align: middle;\n",
       "    }\n",
       "\n",
       "    .dataframe tbody tr th {\n",
       "        vertical-align: top;\n",
       "    }\n",
       "\n",
       "    .dataframe thead th {\n",
       "        text-align: right;\n",
       "    }\n",
       "</style>\n",
       "<table border=\"1\" class=\"dataframe\">\n",
       "  <thead>\n",
       "    <tr style=\"text-align: right;\">\n",
       "      <th></th>\n",
       "      <th>longitude</th>\n",
       "      <th>ocean_proximity</th>\n",
       "    </tr>\n",
       "  </thead>\n",
       "  <tbody>\n",
       "    <tr>\n",
       "      <th>0</th>\n",
       "      <td>-122.23</td>\n",
       "      <td>NEAR BAY</td>\n",
       "    </tr>\n",
       "    <tr>\n",
       "      <th>1</th>\n",
       "      <td>-122.22</td>\n",
       "      <td>NEAR BAY</td>\n",
       "    </tr>\n",
       "    <tr>\n",
       "      <th>2</th>\n",
       "      <td>-122.24</td>\n",
       "      <td>NEAR BAY</td>\n",
       "    </tr>\n",
       "    <tr>\n",
       "      <th>3</th>\n",
       "      <td>-122.25</td>\n",
       "      <td>NEAR BAY</td>\n",
       "    </tr>\n",
       "    <tr>\n",
       "      <th>4</th>\n",
       "      <td>-122.25</td>\n",
       "      <td>NEAR BAY</td>\n",
       "    </tr>\n",
       "  </tbody>\n",
       "</table>\n",
       "</div>"
      ],
      "text/plain": [
       "   longitude ocean_proximity\n",
       "0    -122.23        NEAR BAY\n",
       "1    -122.22        NEAR BAY\n",
       "2    -122.24        NEAR BAY\n",
       "3    -122.25        NEAR BAY\n",
       "4    -122.25        NEAR BAY"
      ]
     },
     "execution_count": 11,
     "metadata": {},
     "output_type": "execute_result"
    }
   ],
   "source": [
    "#df.loc [[row], [column]] or df. iloc [[row], [column]]\n",
    "subset = df.loc[:, ['longitude', 'ocean_proximity']] # NOTE : colon is used to select all rows# subset columns with iloc\n",
    "subset.head()"
   ]
  },
  {
   "cell_type": "code",
   "execution_count": 13,
   "metadata": {},
   "outputs": [
    {
     "data": {
      "text/html": [
       "<div>\n",
       "<style scoped>\n",
       "    .dataframe tbody tr th:only-of-type {\n",
       "        vertical-align: middle;\n",
       "    }\n",
       "\n",
       "    .dataframe tbody tr th {\n",
       "        vertical-align: top;\n",
       "    }\n",
       "\n",
       "    .dataframe thead th {\n",
       "        text-align: right;\n",
       "    }\n",
       "</style>\n",
       "<table border=\"1\" class=\"dataframe\">\n",
       "  <thead>\n",
       "    <tr style=\"text-align: right;\">\n",
       "      <th></th>\n",
       "      <th>housing_median_age</th>\n",
       "      <th>total_bedrooms</th>\n",
       "      <th>ocean_proximity</th>\n",
       "    </tr>\n",
       "  </thead>\n",
       "  <tbody>\n",
       "    <tr>\n",
       "      <th>0</th>\n",
       "      <td>41.0</td>\n",
       "      <td>129.0</td>\n",
       "      <td>NEAR BAY</td>\n",
       "    </tr>\n",
       "    <tr>\n",
       "      <th>1</th>\n",
       "      <td>21.0</td>\n",
       "      <td>1106.0</td>\n",
       "      <td>NEAR BAY</td>\n",
       "    </tr>\n",
       "    <tr>\n",
       "      <th>2</th>\n",
       "      <td>52.0</td>\n",
       "      <td>190.0</td>\n",
       "      <td>NEAR BAY</td>\n",
       "    </tr>\n",
       "    <tr>\n",
       "      <th>3</th>\n",
       "      <td>52.0</td>\n",
       "      <td>235.0</td>\n",
       "      <td>NEAR BAY</td>\n",
       "    </tr>\n",
       "    <tr>\n",
       "      <th>4</th>\n",
       "      <td>52.0</td>\n",
       "      <td>280.0</td>\n",
       "      <td>NEAR BAY</td>\n",
       "    </tr>\n",
       "  </tbody>\n",
       "</table>\n",
       "</div>"
      ],
      "text/plain": [
       "   housing_median_age  total_bedrooms ocean_proximity\n",
       "0                41.0           129.0        NEAR BAY\n",
       "1                21.0          1106.0        NEAR BAY\n",
       "2                52.0           190.0        NEAR BAY\n",
       "3                52.0           235.0        NEAR BAY\n",
       "4                52.0           280.0        NEAR BAY"
      ]
     },
     "execution_count": 13,
     "metadata": {},
     "output_type": "execute_result"
    }
   ],
   "source": [
    "# iloc will alow us to use integers\n",
    "# -1 will select the last column\n",
    "subset = df.iloc[:, [2, 4, -1]]\n",
    "subset.head()"
   ]
  },
  {
   "cell_type": "code",
   "execution_count": 15,
   "metadata": {},
   "outputs": [
    {
     "data": {
      "text/html": [
       "<div>\n",
       "<style scoped>\n",
       "    .dataframe tbody tr th:only-of-type {\n",
       "        vertical-align: middle;\n",
       "    }\n",
       "\n",
       "    .dataframe tbody tr th {\n",
       "        vertical-align: top;\n",
       "    }\n",
       "\n",
       "    .dataframe thead th {\n",
       "        text-align: right;\n",
       "    }\n",
       "</style>\n",
       "<table border=\"1\" class=\"dataframe\">\n",
       "  <thead>\n",
       "    <tr style=\"text-align: right;\">\n",
       "      <th></th>\n",
       "      <th>longitude</th>\n",
       "      <th>latitude</th>\n",
       "      <th>housing_median_age</th>\n",
       "      <th>total_rooms</th>\n",
       "      <th>total_bedrooms</th>\n",
       "    </tr>\n",
       "  </thead>\n",
       "  <tbody>\n",
       "    <tr>\n",
       "      <th>0</th>\n",
       "      <td>-122.23</td>\n",
       "      <td>37.88</td>\n",
       "      <td>41.0</td>\n",
       "      <td>880.0</td>\n",
       "      <td>129.0</td>\n",
       "    </tr>\n",
       "    <tr>\n",
       "      <th>1</th>\n",
       "      <td>-122.22</td>\n",
       "      <td>37.86</td>\n",
       "      <td>21.0</td>\n",
       "      <td>7099.0</td>\n",
       "      <td>1106.0</td>\n",
       "    </tr>\n",
       "    <tr>\n",
       "      <th>2</th>\n",
       "      <td>-122.24</td>\n",
       "      <td>37.85</td>\n",
       "      <td>52.0</td>\n",
       "      <td>1467.0</td>\n",
       "      <td>190.0</td>\n",
       "    </tr>\n",
       "    <tr>\n",
       "      <th>3</th>\n",
       "      <td>-122.25</td>\n",
       "      <td>37.85</td>\n",
       "      <td>52.0</td>\n",
       "      <td>1274.0</td>\n",
       "      <td>235.0</td>\n",
       "    </tr>\n",
       "    <tr>\n",
       "      <th>4</th>\n",
       "      <td>-122.25</td>\n",
       "      <td>37.85</td>\n",
       "      <td>52.0</td>\n",
       "      <td>1627.0</td>\n",
       "      <td>280.0</td>\n",
       "    </tr>\n",
       "  </tbody>\n",
       "</table>\n",
       "</div>"
      ],
      "text/plain": [
       "   longitude  latitude  housing_median_age  total_rooms  total_bedrooms\n",
       "0    -122.23     37.88                41.0        880.0           129.0\n",
       "1    -122.22     37.86                21.0       7099.0          1106.0\n",
       "2    -122.24     37.85                52.0       1467.0           190.0\n",
       "3    -122.25     37.85                52.0       1274.0           235.0\n",
       "4    -122.25     37.85                52.0       1627.0           280.0"
      ]
     },
     "execution_count": 15,
     "metadata": {},
     "output_type": "execute_result"
    }
   ],
   "source": [
    "# subset the dataframe with the range\n",
    "subset = df.iloc[:, list(range(5))]\n",
    "subset.head()"
   ]
  },
  {
   "cell_type": "code",
   "execution_count": 16,
   "metadata": {},
   "outputs": [
    {
     "name": "stdout",
     "output_type": "stream",
     "text": [
      "   longitude  latitude  housing_median_age\n",
      "0    -122.23     37.88                41.0\n",
      "1    -122.22     37.86                21.0\n",
      "2    -122.24     37.85                52.0\n",
      "3    -122.25     37.85                52.0\n",
      "4    -122.25     37.85                52.0\n"
     ]
    }
   ],
   "source": [
    "# slice the first 3 columns\n",
    "subset = df.iloc[:, :3]\n",
    "print(subset.head())"
   ]
  },
  {
   "cell_type": "code",
   "execution_count": 17,
   "metadata": {},
   "outputs": [
    {
     "name": "stdout",
     "output_type": "stream",
     "text": [
      "   total_rooms  total_bedrooms  population\n",
      "0        880.0           129.0       322.0\n",
      "1       7099.0          1106.0      2401.0\n",
      "2       1467.0           190.0       496.0\n",
      "3       1274.0           235.0       558.0\n",
      "4       1627.0           280.0       565.0\n"
     ]
    }
   ],
   "source": [
    "# slice columns 3 to 5 inclusive\n",
    "subset = df.iloc[:, 3:6]\n",
    "print(subset.head())"
   ]
  },
  {
   "cell_type": "code",
   "execution_count": 20,
   "metadata": {},
   "outputs": [
    {
     "name": "stdout",
     "output_type": "stream",
     "text": [
      "-122.26\n",
      "-122.26\n"
     ]
    }
   ],
   "source": [
    "#Subsetting Rows and Columns\n",
    "print(df.iloc[42, 0])\n",
    "#print(df.loc[42, 0]) #NOTE : Type error\n",
    "print(df.loc[42, 'longitude'])"
   ]
  },
  {
   "cell_type": "code",
   "execution_count": 21,
   "metadata": {},
   "outputs": [
    {
     "name": "stdout",
     "output_type": "stream",
     "text": [
      "     longitude  total_rooms  population\n",
      "0      -122.23        880.0       322.0\n",
      "99     -122.26       3633.0      1838.0\n",
      "999    -121.82       1906.0       802.0\n"
     ]
    }
   ],
   "source": [
    "#Subsetting Multiple Rows and Columns\n",
    "print(df.iloc[[0, 99, 999], [0, 3, 5]])"
   ]
  },
  {
   "cell_type": "code",
   "execution_count": 22,
   "metadata": {},
   "outputs": [
    {
     "name": "stdout",
     "output_type": "stream",
     "text": [
      "     total_rooms  population  longitude\n",
      "0          880.0       322.0    -122.23\n",
      "99        3633.0      1838.0    -122.26\n",
      "999       1906.0       802.0    -121.82\n"
     ]
    }
   ],
   "source": [
    "print(df.loc[[0, 99, 999], ['total_rooms', 'population', 'longitude']]) #More redable"
   ]
  },
  {
   "cell_type": "code",
   "execution_count": 24,
   "metadata": {},
   "outputs": [
    {
     "name": "stdout",
     "output_type": "stream",
     "text": [
      "   total_rooms  population  longitude\n",
      "0        880.0       322.0    -122.23\n",
      "1       7099.0      2401.0    -122.22\n",
      "2       1467.0       496.0    -122.24\n"
     ]
    }
   ],
   "source": [
    "print(df.loc[0:2, ['total_rooms', 'population', 'longitude']]) #Slicing"
   ]
  },
  {
   "cell_type": "code",
   "execution_count": 27,
   "metadata": {},
   "outputs": [
    {
     "name": "stdout",
     "output_type": "stream",
     "text": [
      "ocean_proximity\n",
      "<1H OCEAN     4.230682\n",
      "INLAND        3.208996\n",
      "ISLAND        2.744420\n",
      "NEAR BAY      4.172885\n",
      "NEAR OCEAN    4.005785\n",
      "Name: median_income, dtype: float64\n"
     ]
    }
   ],
   "source": [
    "#GROUPED AND AGGREGATED CALCULATIONS\n",
    "print(df.groupby('ocean_proximity')['median_income'].mean())"
   ]
  },
  {
   "cell_type": "code",
   "execution_count": 29,
   "metadata": {},
   "outputs": [
    {
     "name": "stdout",
     "output_type": "stream",
     "text": [
      "<class 'pandas.core.groupby.DataFrameGroupBy'>\n",
      "<pandas.core.groupby.DataFrameGroupBy object at 0x0000027A867D1748>\n",
      "<class 'pandas.core.groupby.SeriesGroupBy'>\n"
     ]
    }
   ],
   "source": [
    "#How the above works : first create a grouped object : grouped dataframe : from which subset colums\n",
    "grouped_df = df.groupby('ocean_proximity')\n",
    "print(type(grouped_df))\n",
    "print(grouped_df) #pandas only returns us the memory location\n",
    "grouped_df_income = grouped_year_df['median_income']\n",
    "print(type(grouped_df_income)) # returns a series as we retreived only single column"
   ]
  },
  {
   "cell_type": "code",
   "execution_count": 41,
   "metadata": {},
   "outputs": [
    {
     "name": "stdout",
     "output_type": "stream",
     "text": [
      "                          median_income  latitude\n",
      "ocean_proximity latitude                         \n",
      "<1H OCEAN       32.61          3.522700     32.61\n",
      "                32.67          6.257800     32.67\n",
      "                32.71          2.955900     32.71\n",
      "                32.72          4.622414     32.72\n",
      "                32.73          4.925680     32.73\n",
      "                32.74          3.739140     32.74\n",
      "                32.75          4.569722     32.75\n",
      "                32.76          4.579250     32.76\n",
      "                32.77          4.270207     32.77\n",
      "                32.78          4.084660     32.78\n",
      "                32.79          4.282383     32.79\n",
      "                32.80          3.917570     32.80\n",
      "                32.81          4.164991     32.81\n",
      "                32.82          4.335281     32.82\n",
      "                32.83          4.157388     32.83\n",
      "                32.84          4.038780     32.84\n",
      "                32.85          4.180715     32.85\n",
      "                32.86          3.801344     32.86\n",
      "                32.87          4.602883     32.87\n",
      "                32.88          4.395200     32.88\n",
      "                32.89          4.807000     32.89\n",
      "                32.90          4.929964     32.90\n",
      "                32.91          5.666893     32.91\n",
      "                32.92          4.433846     32.92\n",
      "                32.93          4.952757     32.93\n",
      "                32.94          4.937500     32.94\n",
      "                32.95          4.760750     32.95\n",
      "                32.96          5.201300     32.96\n",
      "                32.97          4.988800     32.97\n",
      "                32.98          4.924300     32.98\n",
      "...                                 ...       ...\n",
      "NEAR OCEAN      40.80          1.708689     40.80\n",
      "                40.81          2.660225     40.81\n",
      "                40.85          3.515600     40.85\n",
      "                40.86          1.837167     40.86\n",
      "                40.87          1.321925     40.87\n",
      "                40.88          2.090150     40.88\n",
      "                40.90          2.732100     40.90\n",
      "                40.91          1.666700     40.91\n",
      "                40.92          2.818200     40.92\n",
      "                40.93          3.135750     40.93\n",
      "                40.94          3.673800     40.94\n",
      "                40.95          2.647300     40.95\n",
      "                40.99          2.684700     40.99\n",
      "                41.02          2.172600     41.02\n",
      "                41.04          1.974100     41.04\n",
      "                41.06          3.020800     41.06\n",
      "                41.13          2.470800     41.13\n",
      "                41.36          2.015600     41.36\n",
      "                41.54          2.020200     41.54\n",
      "                41.73          1.703800     41.73\n",
      "                41.74          2.182900     41.74\n",
      "                41.75          2.243950     41.75\n",
      "                41.76          2.460500     41.76\n",
      "                41.77          2.579500     41.77\n",
      "                41.78          1.665400     41.78\n",
      "                41.80          2.867700     41.80\n",
      "                41.81          2.286800     41.81\n",
      "                41.84          3.031300     41.84\n",
      "                41.92          2.133600     41.92\n",
      "                41.95          2.275000     41.95\n",
      "\n",
      "[1738 rows x 2 columns]\n"
     ]
    }
   ],
   "source": [
    "#group by multiple colums\n",
    "multi_group_var = df.groupby(['ocean_proximity', 'latitude'])[['median_income','latitude']].mean()\n",
    "print(multi_group_var)"
   ]
  },
  {
   "cell_type": "code",
   "execution_count": 42,
   "metadata": {},
   "outputs": [
    {
     "name": "stdout",
     "output_type": "stream",
     "text": [
      "ocean_proximity\n",
      "<1H OCEAN     492\n",
      "INLAND        773\n",
      "ISLAND          4\n",
      "NEAR BAY       97\n",
      "NEAR OCEAN    372\n",
      "Name: latitude, dtype: int64\n"
     ]
    }
   ],
   "source": [
    "# use the nunique (number unique)\n",
    "# to calculate the number of unique values in a series(frequecny counts)\n",
    "print(df.groupby('ocean_proximity')['latitude'].nunique())"
   ]
  },
  {
   "cell_type": "code",
   "execution_count": 49,
   "metadata": {},
   "outputs": [
    {
     "name": "stdout",
     "output_type": "stream",
     "text": [
      "latitude\n",
      "32.54    1.266700\n",
      "32.55    2.343833\n",
      "32.56    2.764300\n",
      "32.57    3.368961\n",
      "32.58    3.385735\n",
      "Name: median_income, dtype: float64\n"
     ]
    },
    {
     "data": {
      "text/plain": [
       "<matplotlib.axes._subplots.AxesSubplot at 0x27a884228d0>"
      ]
     },
     "execution_count": 49,
     "metadata": {},
     "output_type": "execute_result"
    }
   ],
   "source": [
    "#Plotting\n",
    "multi_group_var_plot = df.groupby(['latitude'])['median_income'].mean()\n",
    "print(multi_group_var_plot.head())\n",
    "multi_group_var_plot.plot()"
   ]
  }
 ],
 "metadata": {
  "kernelspec": {
   "display_name": "Python 3",
   "language": "python",
   "name": "python3"
  },
  "language_info": {
   "codemirror_mode": {
    "name": "ipython",
    "version": 3
   },
   "file_extension": ".py",
   "mimetype": "text/x-python",
   "name": "python",
   "nbconvert_exporter": "python",
   "pygments_lexer": "ipython3",
   "version": "3.5.2"
  }
 },
 "nbformat": 4,
 "nbformat_minor": 2
}
