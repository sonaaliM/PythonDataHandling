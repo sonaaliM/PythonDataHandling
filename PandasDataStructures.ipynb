{
 "metadata": {
  "name": "PandasDataStructures"
 },
 "nbformat": 3,
 "nbformat_minor": 0,
 "worksheets": [
  {
   "cells": [
    {
     "cell_type": "code",
     "collapsed": false,
     "input": [
      "#CREATING YOUR OWN DATA"
     ],
     "language": "python",
     "metadata": {},
     "outputs": []
    },
    {
     "cell_type": "code",
     "collapsed": false,
     "input": [
      "import pandas as pd\n",
      "\n",
      "s = pd.Series(['banana', 42]) #similar to list , represents 1 col of dataframe , shld be of same type\n",
      "print(s)\n",
      "s.dtype #if mixed types are used, common of both is used"
     ],
     "language": "python",
     "metadata": {},
     "outputs": [
      {
       "output_type": "stream",
       "stream": "stdout",
       "text": [
        "0    banana\n",
        "1        42\n"
       ]
      },
      {
       "output_type": "pyout",
       "prompt_number": 1,
       "text": [
        "dtype('object')"
       ]
      }
     ],
     "prompt_number": 1
    },
    {
     "cell_type": "code",
     "collapsed": false,
     "input": [
      "# manually assign index values to a series\n",
      "# by passing a Python list\n",
      "s = pd.Series(['Wes McKinney', 'Creator of Pandas'],\n",
      "              index=['Person', 'Who'])\n",
      "print(s)"
     ],
     "language": "python",
     "metadata": {},
     "outputs": [
      {
       "output_type": "stream",
       "stream": "stdout",
       "text": [
        "Person         Wes McKinney\n",
        "Who       Creator of Pandas\n"
       ]
      }
     ],
     "prompt_number": 2
    },
    {
     "cell_type": "code",
     "collapsed": false,
     "input": [
      "#Creating DataFrame : using dicts , key => col name , values => rows\n",
      "scientists = pd.DataFrame({\n",
      "    'Name': ['Rosaline Franklin', 'William Gosset'],\n",
      "    'Occupation': ['Chemist', 'Statistician'],\n",
      "    'Born': ['1920-07-25', '1876-06-13'],\n",
      "    'Died': ['1958-04-16', '1937-10-16'],\n",
      "    'Age': [37, 61]})\n",
      "print(scientists) # Order is not guaranteed because python dictionaries are not ordered"
     ],
     "language": "python",
     "metadata": {},
     "outputs": [
      {
       "output_type": "stream",
       "stream": "stdout",
       "text": [
        "   Age        Born        Died               Name    Occupation\n",
        "0   37  1920-07-25  1958-04-16  Rosaline Franklin       Chemist\n",
        "1   61  1876-06-13  1937-10-16     William Gosset  Statistician\n"
       ]
      }
     ],
     "prompt_number": 3
    },
    {
     "cell_type": "code",
     "collapsed": false,
     "input": [
      "#specifying index\n",
      "scientists = pd.DataFrame(\n",
      "    data={'Occupation': ['Chemist', 'Statistician'],\n",
      "          'Born': ['1920-07-25', '1876-06-13'],\n",
      "          'Died': ['1958-04-16', '1937-10-16'],\n",
      "    'Age': [37, 61]},\n",
      "    index=['Rosaline Franklin', 'William Gosset'],\n",
      "    columns=['Occupation', 'Born', 'Died', 'Age'])\n",
      "print(scientists)"
     ],
     "language": "python",
     "metadata": {},
     "outputs": [
      {
       "output_type": "stream",
       "stream": "stdout",
       "text": [
        "                     Occupation        Born        Died  Age\n",
        "Rosaline Franklin       Chemist  1920-07-25  1958-04-16   37\n",
        "William Gosset     Statistician  1876-06-13  1937-10-16   61\n"
       ]
      }
     ],
     "prompt_number": 4
    },
    {
     "cell_type": "code",
     "collapsed": false,
     "input": [
      "#Use OrderedDict to maintain order\n",
      "from collections import OrderedDict\n",
      "\n",
      "# note the round brackets after OrderedDict\n",
      "# then we pass a list of 2-tuples\n",
      "scientists = pd.DataFrame(OrderedDict([\n",
      "    ('Name', ['Rosaline Franklin', 'William Gosset']),\n",
      "    ('Occupation', ['Chemist', 'Statistician']),\n",
      "    ('Born', ['1920-07-25', '1876-06-13']),\n",
      "    ('Died', ['1958-04-16', '1937-10-16']),\n",
      "    ('Age', [37, 61])\n",
      "    ])\n",
      ")\n",
      "print(scientists)"
     ],
     "language": "python",
     "metadata": {},
     "outputs": [
      {
       "output_type": "stream",
       "stream": "stdout",
       "text": [
        "   Age        Born        Died               Name    Occupation\n",
        "0   37  1920-07-25  1958-04-16  Rosaline Franklin       Chemist\n",
        "1   61  1876-06-13  1937-10-16     William Gosset  Statistician\n"
       ]
      }
     ],
     "prompt_number": 5
    },
    {
     "cell_type": "code",
     "collapsed": false,
     "input": [
      "# Using Series\n",
      "# create our example dataframe\n",
      "# with a row index label\n",
      "scientists = pd.DataFrame(\n",
      "    data={'Occupation': ['Chemist', 'Statistician'],\n",
      "          'Born': ['1920-07-25', '1876-06-13'],\n",
      "          'Died': ['1958-04-16', '1937-10-16'],\n",
      "    'Age': [37, 61]},\n",
      "    index=['Rosaline Franklin', 'William Gosset'],\n",
      "    columns=['Occupation', 'Born', 'Died', 'Age'])\n",
      "scientists"
     ],
     "language": "python",
     "metadata": {},
     "outputs": [
      {
       "html": [
        "<div style=\"max-height:1000px;max-width:1500px;overflow:auto;\">\n",
        "<table border=\"1\" class=\"dataframe\">\n",
        "  <thead>\n",
        "    <tr style=\"text-align: right;\">\n",
        "      <th></th>\n",
        "      <th>Occupation</th>\n",
        "      <th>Born</th>\n",
        "      <th>Died</th>\n",
        "      <th>Age</th>\n",
        "    </tr>\n",
        "  </thead>\n",
        "  <tbody>\n",
        "    <tr>\n",
        "      <td><strong>Rosaline Franklin</strong></td>\n",
        "      <td>      Chemist</td>\n",
        "      <td> 1920-07-25</td>\n",
        "      <td> 1958-04-16</td>\n",
        "      <td> 37</td>\n",
        "    </tr>\n",
        "    <tr>\n",
        "      <td><strong>William Gosset</strong></td>\n",
        "      <td> Statistician</td>\n",
        "      <td> 1876-06-13</td>\n",
        "      <td> 1937-10-16</td>\n",
        "      <td> 61</td>\n",
        "    </tr>\n",
        "  </tbody>\n",
        "</table>\n",
        "</div>"
       ],
       "output_type": "pyout",
       "prompt_number": 11,
       "text": [
        "                     Occupation        Born        Died  Age\n",
        "Rosaline Franklin       Chemist  1920-07-25  1958-04-16   37\n",
        "William Gosset     Statistician  1876-06-13  1937-10-16   61"
       ]
      }
     ],
     "prompt_number": 11
    },
    {
     "cell_type": "code",
     "collapsed": false,
     "input": [
      "# select by row index label \n",
      "#first_row = scientists.loc['William Gosset']\n",
      "first_row = scientists.ix['William Gosset']\n",
      "print(type(first_row))\n",
      "print(first_row) #Col is printed as index\n",
      "print(first_row.index)\n",
      "print(first_row.values)\n",
      "print(first_row.keys()) #same as index"
     ],
     "language": "python",
     "metadata": {},
     "outputs": [
      {
       "output_type": "stream",
       "stream": "stdout",
       "text": [
        "<class 'pandas.core.series.Series'>\n",
        "Occupation    Statistician\n",
        "Born            1876-06-13\n",
        "Died            1937-10-16\n",
        "Age                     61\n",
        "Name: William Gosset\n",
        "array([Occupation, Born, Died, Age], dtype=object)\n",
        "[Statistician 1876-06-13 1937-10-16 61]\n",
        "array([Occupation, Born, Died, Age], dtype=object)\n"
       ]
      }
     ],
     "prompt_number": 7
    },
    {
     "cell_type": "code",
     "collapsed": false,
     "input": [
      "# get the first index using an attribute\n",
      "print(first_row.index[0])\n",
      "print(first_row.keys()[0])"
     ],
     "language": "python",
     "metadata": {},
     "outputs": [
      {
       "output_type": "stream",
       "stream": "stdout",
       "text": [
        "Occupation\n",
        "Occupation\n"
       ]
      }
     ],
     "prompt_number": 20
    },
    {
     "cell_type": "code",
     "collapsed": false,
     "input": [
      "#Calculations on series\n",
      "ages = scientists['Age']\n",
      "print(ages)\n",
      "print(ages.mean())\n",
      "print(ages.min())\n",
      "print(ages.max())\n",
      "print(ages.std())"
     ],
     "language": "python",
     "metadata": {},
     "outputs": [
      {
       "output_type": "stream",
       "stream": "stdout",
       "text": [
        "Rosaline Franklin    37\n",
        "William Gosset       61\n",
        "Name: Age\n",
        "49.0\n",
        "37\n",
        "61\n",
        "16.9705627485"
       ]
      },
      {
       "output_type": "stream",
       "stream": "stdout",
       "text": [
        "\n"
       ]
      }
     ],
     "prompt_number": 22
    },
    {
     "cell_type": "code",
     "collapsed": false,
     "input": [
      "#MAKING CHANGES TO SERIES AND DATAFRAMES\n",
      "print(scientists['Born'].dtype)\n",
      "print(scientists['Died'].dtype)\n",
      "#Convert to date time\n",
      "born_datetime = pd.to_datetime(scientists['Born']) #,format='%Y-%m-%d'\n",
      "print(born_datetime)\n",
      "died_datetime = pd.to_datetime(scientists['Died'])\n",
      "print(died_datetime)"
     ],
     "language": "python",
     "metadata": {},
     "outputs": [
      {
       "output_type": "stream",
       "stream": "stdout",
       "text": [
        "object\n",
        "object\n",
        "Rosaline Franklin   1920-07-25 00:00:00\n",
        "William Gosset      1876-06-13 00:00:00\n",
        "Name: Born\n",
        "Rosaline Franklin   1958-04-16 00:00:00\n",
        "William Gosset      1937-10-16 00:00:00\n",
        "Name: Died\n"
       ]
      }
     ],
     "prompt_number": 9
    },
    {
     "cell_type": "code",
     "collapsed": false,
     "input": [
      "scientists['Born'], scientists['Died'] = (born_datetime,died_datetime)\n",
      "scientists"
     ],
     "language": "python",
     "metadata": {},
     "outputs": [
      {
       "html": [
        "<div style=\"max-height:1000px;max-width:1500px;overflow:auto;\">\n",
        "<table border=\"1\" class=\"dataframe\">\n",
        "  <thead>\n",
        "    <tr style=\"text-align: right;\">\n",
        "      <th></th>\n",
        "      <th>Occupation</th>\n",
        "      <th>Born</th>\n",
        "      <th>Died</th>\n",
        "      <th>Age</th>\n",
        "    </tr>\n",
        "  </thead>\n",
        "  <tbody>\n",
        "    <tr>\n",
        "      <td><strong>Rosaline Franklin</strong></td>\n",
        "      <td>      Chemist</td>\n",
        "      <td>1920-07-25 00:00:00</td>\n",
        "      <td>1958-04-16 00:00:00</td>\n",
        "      <td> 37</td>\n",
        "    </tr>\n",
        "    <tr>\n",
        "      <td><strong>William Gosset</strong></td>\n",
        "      <td> Statistician</td>\n",
        "      <td>1876-06-13 00:00:00</td>\n",
        "      <td>1937-10-16 00:00:00</td>\n",
        "      <td> 61</td>\n",
        "    </tr>\n",
        "  </tbody>\n",
        "</table>\n",
        "</div>"
       ],
       "output_type": "pyout",
       "prompt_number": 10,
       "text": [
        "                     Occupation                Born                Died  Age\n",
        "Rosaline Franklin       Chemist 1920-07-25 00:00:00 1958-04-16 00:00:00   37\n",
        "William Gosset     Statistician 1876-06-13 00:00:00 1937-10-16 00:00:00   61"
       ]
      }
     ],
     "prompt_number": 10
    }
   ],
   "metadata": {}
  }
 ]
}