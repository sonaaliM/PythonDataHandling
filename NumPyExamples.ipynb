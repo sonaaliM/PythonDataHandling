{
 "metadata": {
  "name": "NumPyExamples"
 },
 "nbformat": 3,
 "nbformat_minor": 0,
 "worksheets": [
  {
   "cells": [
    {
     "cell_type": "code",
     "collapsed": false,
     "input": [
      "import numpy as np\n",
      "data = np.random.randn(2, 3) \n",
      "# altenatve to typing np. from numpy import *\n",
      "#NOTE : better to use np. as some functions coincide with python built-in function\n",
      "data"
     ],
     "language": "python",
     "metadata": {},
     "outputs": [
      {
       "output_type": "pyout",
       "prompt_number": 2,
       "text": [
        "array([[-1.69297471,  0.76123676, -1.0704895 ],\n",
        "       [-0.36582012, -1.041673  , -0.83973627]])"
       ]
      }
     ],
     "prompt_number": 2
    },
    {
     "cell_type": "code",
     "collapsed": false,
     "input": [
      "data1 = data * 10\n",
      "print (data1)\n",
      "data2 = data + data\n",
      "print (data2)\n",
      "print (data1 > data2) #Comparing elts of array"
     ],
     "language": "python",
     "metadata": {},
     "outputs": [
      {
       "output_type": "stream",
       "stream": "stdout",
       "text": [
        "[[-338.59494147  152.24735238 -214.09789948]\n",
        " [ -73.1640245  -208.33460089 -167.94725309]]\n",
        "[[-67.71898829  30.44947048 -42.8195799 ]\n",
        " [-14.6328049  -41.66692018 -33.58945062]]\n",
        "[[False  True False]\n",
        " [False False False]]\n"
       ]
      }
     ],
     "prompt_number": 19
    },
    {
     "cell_type": "code",
     "collapsed": false,
     "input": [
      "#ndarray is a generic multidimensional container for homogeneous data\n",
      "print(data.shape)\n",
      "print(data.dtype)"
     ],
     "language": "python",
     "metadata": {},
     "outputs": [
      {
       "output_type": "stream",
       "stream": "stdout",
       "text": [
        "(2, 3)\n",
        "float64\n"
       ]
      }
     ],
     "prompt_number": 7
    },
    {
     "cell_type": "code",
     "collapsed": false,
     "input": [
      "#easiest way to create an array is to use the array function : can be created from lists\n",
      "data1 = [6, 7.5, 8, 0, 1]\n",
      "arr1 = np.array(data1)\n",
      "arr1"
     ],
     "language": "python",
     "metadata": {},
     "outputs": [
      {
       "output_type": "pyout",
       "prompt_number": 9,
       "text": [
        "array([ 6. ,  7.5,  8. ,  0. ,  1. ])"
       ]
      }
     ],
     "prompt_number": 9
    },
    {
     "cell_type": "code",
     "collapsed": false,
     "input": [
      "#multidimensional array\n",
      "data2 = [[1, 2, 3, 4], [5, 6, 7, 8]]\n",
      "multiDimArray = np.array(data2)\n",
      "print (multiDimArray)\n",
      "print (multiDimArray.shape)\n",
      "print (multiDimArray.ndim)"
     ],
     "language": "python",
     "metadata": {},
     "outputs": [
      {
       "output_type": "stream",
       "stream": "stdout",
       "text": [
        "[[1 2 3 4]\n",
        " [5 6 7 8]]\n",
        "(2, 4)\n",
        "2\n"
       ]
      }
     ],
     "prompt_number": 13
    },
    {
     "cell_type": "code",
     "collapsed": false,
     "input": [
      "zeroArray = np.zeros(10)\n",
      "print(zero_array)\n",
      "emptyArray =  np.empty((2, 3, 2))\n",
      "print(emptyArray) # Note can contain garbage values"
     ],
     "language": "python",
     "metadata": {},
     "outputs": [
      {
       "output_type": "stream",
       "stream": "stdout",
       "text": [
        "[ 0.  0.  0.  0.  0.  0.  0.  0.  0.  0.]\n",
        "[[[  2.59338634e+161   3.45333679e+280]\n",
        "  [  2.69316350e-110   2.77440762e+280]\n",
        "  [  2.59345485e+161   1.13224202e+277]]\n",
        "\n",
        " [[  2.17237988e-153   7.52736939e+252]\n",
        "  [  8.95402175e-096   8.82069537e+199]\n",
        "  [  1.13224202e+277   1.41320120e-308]]]\n"
       ]
      }
     ],
     "prompt_number": 15
    },
    {
     "cell_type": "code",
     "collapsed": false,
     "input": [
      "#array-valued version of the built-in Python range function\n",
      "rangeArray=np.arange(15)\n",
      "rangeArray"
     ],
     "language": "python",
     "metadata": {},
     "outputs": [
      {
       "output_type": "pyout",
       "prompt_number": 17,
       "text": [
        "array([ 0,  1,  2,  3,  4,  5,  6,  7,  8,  9, 10, 11, 12, 13, 14])"
       ]
      }
     ],
     "prompt_number": 17
    },
    {
     "cell_type": "code",
     "collapsed": false,
     "input": [
      "#Slicing\n",
      "arr = np.arange(10)\n",
      "print(arr)\n",
      "print(arr[5]) #indexing\n",
      "print(arr[5:8]) #slicing\n",
      "#Any modification applies to source array as data is not copied \n",
      "arr[5:8] = 12\n",
      "print(arr)\n",
      "#Even if u make a copy the source array changes\n",
      "arr_slice = arr[5:8]\n",
      "print(arr_slice)\n",
      "arr_slice[1] = 12345\n",
      "print(arr)\n",
      "#[:] will assign to all values in an array\n",
      "arr_slice[:] = 64\n",
      "print(arr)\n",
      "#Creating a copy\n",
      "arr_copy = arr[5:8].copy()\n",
      "arr_copy[:] = 32\n",
      "print(arr)\n"
     ],
     "language": "python",
     "metadata": {},
     "outputs": []
    },
    {
     "cell_type": "code",
     "collapsed": false,
     "input": [
      "#Multidimensional arrays\n",
      "arr2d = np.array([[1, 2, 3], [4, 5, 6], [7, 8, 9]])\n",
      "arraySlice = arr2d[2]\n",
      "print(arraySlice) #1 dimensional array\n",
      "print(arr2d[0][2]) #element"
     ],
     "language": "python",
     "metadata": {},
     "outputs": [
      {
       "output_type": "stream",
       "stream": "stdout",
       "text": [
        "[7 8 9]\n",
        "3\n"
       ]
      }
     ],
     "prompt_number": 31
    },
    {
     "cell_type": "code",
     "collapsed": false,
     "input": [
      "#3 dimensional array\n",
      "arr3d = np.array([[[1, 2, 3], [4, 5, 6]], [[7, 8, 9], [10, 11, 12]]])\n",
      "print(arr3d)\n",
      "print('--------2D-------')\n",
      "print(arr3d[0])\n",
      "print('--------1D-------')\n",
      "print(arr3d[0][1])"
     ],
     "language": "python",
     "metadata": {},
     "outputs": [
      {
       "output_type": "stream",
       "stream": "stdout",
       "text": [
        "[[[ 1  2  3]\n",
        "  [ 4  5  6]]\n",
        "\n",
        " [[ 7  8  9]\n",
        "  [10 11 12]]]\n",
        "--------2D-------\n",
        "[[1 2 3]\n",
        " [4 5 6]]\n",
        "--------1D-------\n",
        "[4 5 6]\n"
       ]
      }
     ],
     "prompt_number": 35
    },
    {
     "cell_type": "code",
     "collapsed": false,
     "input": [
      "#Both scalar values and arrays can be assigned to arr3d[0]\n",
      "old_values = arr3d[0].copy()\n",
      "arr3d[0] = 42\n",
      "print(arr3d)\n",
      "arr3d[0] = old_values\n",
      "print('------Original------')\n",
      "print(arr3d)"
     ],
     "language": "python",
     "metadata": {},
     "outputs": [
      {
       "output_type": "stream",
       "stream": "stdout",
       "text": [
        "[[[42 42 42]\n",
        "  [42 42 42]]\n",
        "\n",
        " [[ 7  8  9]\n",
        "  [10 11 12]]]\n",
        "------Original------\n",
        "[[[ 1  2  3]\n",
        "  [ 4  5  6]]\n",
        "\n",
        " [[ 7  8  9]\n",
        "  [10 11 12]]]\n"
       ]
      }
     ],
     "prompt_number": 37
    },
    {
     "cell_type": "code",
     "collapsed": false,
     "input": [
      "#Indexing with slices\n",
      "print(arr2d)\n",
      "print('---------------')\n",
      "print(arr2d[:2]) #same as 0:2 : select the first two rows of arr2d\n",
      "print('---------------')\n",
      "print(arr2d[1:2])\n",
      "print('---------------')\n",
      "print(arr2d[:2, 1:]) # select first 2 rows , then select columns starting from 1\n",
      "arr2d[:2, 1:] = 0\n",
      "print('---------------')\n",
      "print(arr2d)"
     ],
     "language": "python",
     "metadata": {},
     "outputs": [
      {
       "output_type": "stream",
       "stream": "stdout",
       "text": [
        "[[1 2 3]\n",
        " [4 5 6]\n",
        " [7 8 9]]\n",
        "---------------\n",
        "[[1 2 3]\n",
        " [4 5 6]]\n",
        "---------------\n",
        "[[4 5 6]]\n",
        "---------------\n",
        "[[2 3]\n",
        " [5 6]]\n",
        "---------------\n",
        "[[1 0 0]\n",
        " [4 0 0]\n",
        " [7 8 9]]\n"
       ]
      }
     ],
     "prompt_number": 46
    },
    {
     "cell_type": "code",
     "collapsed": false,
     "input": [
      "#Just an edit"
     ],
     "language": "python",
     "metadata": {},
     "outputs": []
    }
   ],
   "metadata": {}
  }
 ]
}