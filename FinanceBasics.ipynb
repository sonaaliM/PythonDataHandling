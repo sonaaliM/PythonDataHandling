{
 "cells": [
  {
   "cell_type": "code",
   "execution_count": 17,
   "metadata": {
    "collapsed": false
   },
   "outputs": [
    {
     "data": {
      "text/plain": [
       "array([1, 2, 6])"
      ]
     },
     "execution_count": 17,
     "metadata": {},
     "output_type": "execute_result"
    }
   ],
   "source": [
    "import numpy as np\n",
    "import math as math\n",
    "a = np.array([1,2,3])\n",
    "np.cumprod(a)"
   ]
  },
  {
   "cell_type": "code",
   "execution_count": 15,
   "metadata": {
    "collapsed": false
   },
   "outputs": [
    {
     "data": {
      "text/plain": [
       "array([50, 10])"
      ]
     },
     "execution_count": 15,
     "metadata": {},
     "output_type": "execute_result"
    }
   ],
   "source": [
    "daily_price = np.array([100,150,160])\n",
    "daily_returns = np.diff(daily_price)\n",
    "daily_returns"
   ]
  },
  {
   "cell_type": "code",
   "execution_count": 16,
   "metadata": {
    "collapsed": false
   },
   "outputs": [
    {
     "data": {
      "text/plain": [
       "array([ 50, 560])"
      ]
     },
     "execution_count": 16,
     "metadata": {},
     "output_type": "execute_result"
    }
   ],
   "source": [
    "annual_return = np.cumprod(daily_returns+1) - 1\n",
    "annual_return"
   ]
  },
  {
   "cell_type": "code",
   "execution_count": 53,
   "metadata": {
    "collapsed": false
   },
   "outputs": [
    {
     "name": "stdout",
     "output_type": "stream",
     "text": [
      "2\n"
     ]
    },
    {
     "data": {
      "text/plain": [
       "7.177346253629313"
      ]
     },
     "execution_count": 53,
     "metadata": {},
     "output_type": "execute_result"
    }
   ],
   "source": [
    "portfolio_as_of_2002 = 100\n",
    "portfolio_as_of_2012 = 200\n",
    "years = 0.1 #1/10\n",
    "#portfolio_as_of_2012 = portfolio_as_of_2002 × (1 + CAGR) ^ 10\n",
    "annual_return = portfolio_as_of_2012 / portfolio_as_of_2002\n",
    "print annual_return\n",
    "CAGR = (math.pow(annuannual_return = portfolio_as_of_2016 / portfolio_as_of_2017\n",
    "print annual_return\n",
    "CAGR = (math.pow(annual_return,1) -1) * 100\n",
    "CAGRal_return,years) -1) * 100\n",
    "CAGR"
   ]
  },
  {
   "cell_type": "code",
   "execution_count": 62,
   "metadata": {
    "collapsed": false
   },
   "outputs": [
    {
     "name": "stdout",
     "output_type": "stream",
     "text": [
      "1.7682121118\n"
     ]
    },
    {
     "data": {
      "text/plain": [
       "76.82121118024085"
      ]
     },
     "execution_count": 62,
     "metadata": {},
     "output_type": "execute_result"
    }
   ],
   "source": [
    "portfolio_as_of_2016 = 335501.18\n",
    "portfolio_as_of_2017 = 593237.25\n",
    "years = 1 #1/10\n",
    "#portfolio_as_of_2012 = portfolio_as_of_2002 × (1 + CAGR) ^ 10\n",
    "annual_return = portfolio_as_of_2017 / portfolio_as_of_2016\n",
    "print annual_return\n",
    "CAGR = (math.pow(annual_return,1) -1) * 100\n",
    "CAGR"
   ]
  },
  {
   "cell_type": "code",
   "execution_count": 60,
   "metadata": {
    "collapsed": false
   },
   "outputs": [
    {
     "data": {
      "text/plain": [
       "6"
      ]
     },
     "execution_count": 60,
     "metadata": {},
     "output_type": "execute_result"
    }
   ],
   "source": [
    "#Rule of 72\n",
    "CAGR = 12\n",
    "years_to_double = 72 / CAGR\n",
    "years_to_double"
   ]
  },
  {
   "cell_type": "code",
   "execution_count": 64,
   "metadata": {
    "collapsed": false
   },
   "outputs": [
    {
     "name": "stdout",
     "output_type": "stream",
     "text": [
      "11.5455018201\n"
     ]
    },
    {
     "data": {
      "text/plain": [
       "1054.55018200728"
      ]
     },
     "execution_count": 64,
     "metadata": {},
     "output_type": "execute_result"
    }
   ],
   "source": [
    "price_in_2014 = 96.15\n",
    "price_in_2017 = 1110.10\n",
    "years = 3\n",
    "annual_return = price_in_2017 / price_in_2014\n",
    "print annual_return\n",
    "CAGR = (math.pow(annual_return,1) -1) * 100\n",
    "CAGR"
   ]
  },
  {
   "cell_type": "code",
   "execution_count": null,
   "metadata": {
    "collapsed": true
   },
   "outputs": [],
   "source": []
  }
 ],
 "metadata": {
  "kernelspec": {
   "display_name": "Python 2",
   "language": "python",
   "name": "python2"
  },
  "language_info": {
   "codemirror_mode": {
    "name": "ipython",
    "version": 2
   },
   "file_extension": ".py",
   "mimetype": "text/x-python",
   "name": "python",
   "nbconvert_exporter": "python",
   "pygments_lexer": "ipython2",
   "version": "2.7.11"
  }
 },
 "nbformat": 4,
 "nbformat_minor": 0
}
