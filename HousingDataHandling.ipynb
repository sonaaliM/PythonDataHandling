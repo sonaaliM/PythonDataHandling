{
 "cells": [
  {
   "cell_type": "code",
   "execution_count": 40,
   "metadata": {},
   "outputs": [],
   "source": [
    "# code.py\n",
    "\n",
    "import csv\n",
    "import os\n",
    "\n",
    "# Define CSV and relative path\n",
    "HOUSING_PATH = os.path.join(\"datasets\", \"housing\")\n",
    "csv_path = os.path.join(HOUSING_PATH, \"housing.csv\")\n",
    "\n",
    "# 180 MB\n",
    "def read_houses_as_tuples(filename):\n",
    "    records = []\n",
    "    with open(filename) as f:\n",
    "        rows = csv.reader(f)\n",
    "        headers = next(rows)   # Skip (not data)\n",
    "        for row in rows:\n",
    "            longitude = row[0]\n",
    "            latitude = row[1]\n",
    "            housing_median_age = row[2]\n",
    "            total_rooms = row[3]\n",
    "            total_bedrooms = row[4]\n",
    "            population = row[5]\n",
    "            households = row[6]\n",
    "            median_income = float(row[7])\n",
    "            median_house_value = row[8]\n",
    "            ocean_proximity = row[9]\n",
    "\n",
    "            record = (longitude,latitude,housing_median_age,total_rooms,total_bedrooms,population,households,median_income,median_house_value,ocean_proximity)  # Tuple\n",
    "            records.append(record)\n",
    "    return records"
   ]
  },
  {
   "cell_type": "code",
   "execution_count": 51,
   "metadata": {},
   "outputs": [
    {
     "name": "stdout",
     "output_type": "stream",
     "text": [
      "Houses count 20640\n",
      "Island count 5\n",
      "Nearby Bay count 2290\n"
     ]
    }
   ],
   "source": [
    "houseTuples = read_houses_as_tuples(csv_path)\n",
    "print (\"Houses count\" , len(houseTuples) )\n",
    "\n",
    "#Access tuples using [] with index\n",
    "islandRows = [record for record in houseTuples if record[9] == 'ISLAND']\n",
    "nearBayRows = [record for record in houseTuples if record[9] == 'NEAR BAY']\n",
    "print (\"Island count\" , len(islandRows) )\n",
    "print (\"Nearby Bay count\" , len(nearBayRows) )"
   ]
  },
  {
   "cell_type": "code",
   "execution_count": 52,
   "metadata": {},
   "outputs": [
    {
     "data": {
      "text/plain": [
       "('744.0', '1100.0', '733.0', '341.0', '422.0')"
      ]
     },
     "execution_count": 52,
     "metadata": {},
     "output_type": "execute_result"
    }
   ],
   "source": [
    "#Convert any iterator to tuples\n",
    "islandRows = [record[5] for record in houseTuples if record[9] == 'ISLAND']\n",
    "popultationTuple = tuple(islandRows)\n",
    "popultationTuple"
   ]
  },
  {
   "cell_type": "code",
   "execution_count": 50,
   "metadata": {},
   "outputs": [
    {
     "data": {
      "text/plain": [
       "{'<1H OCEAN', 'INLAND', 'NEAR BAY', 'NEAR OCEAN'}"
      ]
     },
     "execution_count": 50,
     "metadata": {},
     "output_type": "execute_result"
    }
   ],
   "source": [
    "#Get unique locations for income > 12 ==> Use set\n",
    "maxIncomeRows = [record for record in houseTuples if record[7] >= 12]\n",
    "typeOfLocationForMaxIncome = {record[9] for record in maxIncomeRows}\n",
    "typeOfLocationForMaxIncome"
   ]
  },
  {
   "cell_type": "code",
   "execution_count": 61,
   "metadata": {},
   "outputs": [
    {
     "name": "stdout",
     "output_type": "stream",
     "text": [
      "True\n"
     ]
    }
   ],
   "source": [
    "from collections import Counter\n",
    "total_distinct_latitudes = Counter() #Using counter\n",
    "\n",
    "distinclongitudesForMaxIncome =  { (record[0],record[9]) for record in maxIncomeRows}\n",
    "locationCoorForMaxIncome =  { (record[0],record[1],record[9]) for record in maxIncomeRows}\n",
    "\n",
    "#Variable unpacking by iterating over sequences of tuples or lists\n",
    "for longitude,latitude,location_type in locationCoorForMaxIncome:\n",
    "    total_distinct_latitudes[longitude,location_type] += 1\n",
    "\n",
    "print (len(total_distinct_latitudes) == len(distinclongitudesForMaxIncome))"
   ]
  },
  {
   "cell_type": "code",
   "execution_count": 76,
   "metadata": {},
   "outputs": [
    {
     "name": "stdout",
     "output_type": "stream",
     "text": [
      "0\n",
      "18\n",
      "18\n",
      "18\n"
     ]
    }
   ],
   "source": [
    "maxIncomeRowsIsland = [record for record in houseTuples if record[7] >= 12 and record[9] == \"ISLAND\"]\n",
    "print (len(maxIncomeRowsIsland))\n",
    "maxIncomeRowsNearBay = [record for record in houseTuples if record[7] >= 12 and record[9] == \"NEAR BAY\"]\n",
    "print (len(maxIncomeRowsNearBay))\n",
    "\n",
    "maxIncomeRowsIslandNearBay = [] #Define List\n",
    "for record in maxIncomeRowsNearBay:\n",
    "  maxIncomeRowsIslandNearBay.append(record) # append or remove from list\n",
    "print (len(maxIncomeRowsIslandNearBay))\n",
    "\n",
    "maxIncomeRowsIslandNearBay = maxIncomeRowsIsland + maxIncomeRowsNearBay # Concatenating lists\n",
    "print (len(maxIncomeRowsIslandNearBay))"
   ]
  },
  {
   "cell_type": "code",
   "execution_count": 77,
   "metadata": {},
   "outputs": [
    {
     "name": "stdout",
     "output_type": "stream",
     "text": [
      "0\n",
      "18\n"
     ]
    }
   ],
   "source": [
    "#Note that list concatenation by addition is expensive operation \n",
    "#as new list must be created and the objects copied over. \n",
    "#Instead use extends\n",
    "maxIncomeRowsIslandNearBay = maxIncomeRowsIsland \n",
    "print (len(maxIncomeRowsIslandNearBay))\n",
    "maxIncomeRowsIslandNearBay.extend(maxIncomeRowsNearBay)\n",
    "print (len(maxIncomeRowsIslandNearBay))"
   ]
  },
  {
   "cell_type": "code",
   "execution_count": 86,
   "metadata": {},
   "outputs": [
    {
     "name": "stdout",
     "output_type": "stream",
     "text": [
      "['744.0', '1100.0', '733.0', '341.0', '422.0']\n",
      "['744.0', '1100.0', '733.0', '341.0', '422.0']\n"
     ]
    }
   ],
   "source": [
    "#Passing function as argument\n",
    "def apply_to_list(some_list, f):    \n",
    "    return [f(x) for x in some_list]\n",
    "\n",
    "islandRows = [record[5] for record in houseTuples if record[9] == 'ISLAND']\n",
    "print (islandRows)\n",
    "#Passing function argument as lambda\n",
    "squaredIslandRows = apply_to_list(islandRows, lambda x: x * 1 )\n",
    "print (squaredIslandRows)"
   ]
  },
  {
   "cell_type": "code",
   "execution_count": null,
   "metadata": {},
   "outputs": [],
   "source": [
    "#TODO : sort, zipped, enumerate\n",
    "#Currying\n",
    "#Generators"
   ]
  }
 ],
 "metadata": {
  "kernelspec": {
   "display_name": "Python 3",
   "language": "python",
   "name": "python3"
  },
  "language_info": {
   "codemirror_mode": {
    "name": "ipython",
    "version": 3
   },
   "file_extension": ".py",
   "mimetype": "text/x-python",
   "name": "python",
   "nbconvert_exporter": "python",
   "pygments_lexer": "ipython3",
   "version": "3.5.2"
  }
 },
 "nbformat": 4,
 "nbformat_minor": 2
}
