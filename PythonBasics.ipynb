{
 "cells": [
  {
   "cell_type": "markdown",
   "metadata": {},
   "source": [
    "#### Basic Datatypes"
   ]
  },
  {
   "cell_type": "code",
   "execution_count": 2,
   "metadata": {
    "collapsed": false
   },
   "outputs": [
    {
     "name": "stdout",
     "output_type": "stream",
     "text": [
      "0.25\n",
      "<type 'float'>\n"
     ]
    }
   ],
   "source": [
    "#Floats\n",
    "print 1./4\n",
    "print type(1./4)"
   ]
  },
  {
   "cell_type": "code",
   "execution_count": 3,
   "metadata": {
    "collapsed": false
   },
   "outputs": [
    {
     "data": {
      "text/plain": [
       "Context(prec=28, rounding=ROUND_HALF_EVEN, Emin=-999999999, Emax=999999999, capitals=1, flags=[], traps=[Overflow, DivisionByZero, InvalidOperation])"
      ]
     },
     "execution_count": 3,
     "metadata": {},
     "output_type": "execute_result"
    }
   ],
   "source": [
    "import decimal as decimal\n",
    "decimal.getcontext()"
   ]
  },
  {
   "cell_type": "code",
   "execution_count": 7,
   "metadata": {
    "collapsed": false
   },
   "outputs": [
    {
     "name": "stdout",
     "output_type": "stream",
     "text": [
      "0.09090909090909090909090909091\n",
      "0.09091\n"
     ]
    }
   ],
   "source": [
    "d = decimal.Decimal(1) / decimal.Decimal (11)\n",
    "print d\n",
    "decimal.getcontext().prec = 4 \n",
    "e = decimal.Decimal(1) / decimal.Decimal (11)\n",
    "print e"
   ]
  },
  {
   "cell_type": "markdown",
   "metadata": {},
   "source": [
    "#### Regular Expressions"
   ]
  },
  {
   "cell_type": "code",
   "execution_count": 8,
   "metadata": {
    "collapsed": false
   },
   "outputs": [
    {
     "data": {
      "text/plain": [
       "[\"'01/18/2014 13:00:00'\", \"'01/18/2014 13:30:00'\", \"'01/18/2014 14:00:00'\"]"
      ]
     },
     "execution_count": 8,
     "metadata": {},
     "output_type": "execute_result"
    }
   ],
   "source": [
    "import re\n",
    "series = \"\"\"\n",
    "         '01/18/2014 13:00:00', 100, '1st';\n",
    "         '01/18/2014 13:30:00', 110, '2nd';\n",
    "         '01/18/2014 14:00:00', 120, '3rd'\n",
    "         \"\"\"\n",
    "dt = re.compile(\"'[0-9/:\\s]+'\")\n",
    "result = dt.findall(series)\n",
    "result"
   ]
  },
  {
   "cell_type": "code",
   "execution_count": 12,
   "metadata": {
    "collapsed": false
   },
   "outputs": [
    {
     "name": "stdout",
     "output_type": "stream",
     "text": [
      "2014-01-18 13:00:00\n",
      "<type 'datetime.datetime'>\n"
     ]
    },
    {
     "data": {
      "text/plain": [
       "datetime.datetime(2014, 1, 18, 13, 0)"
      ]
     },
     "execution_count": 12,
     "metadata": {},
     "output_type": "execute_result"
    }
   ],
   "source": [
    "from datetime import datetime\n",
    "pydt = datetime.strptime(result[0].replace(\"'\", \"\"),'%m/%d/%Y %H:%M:%S')\n",
    "print pydt\n",
    "print type(pydt)\n",
    "pydt"
   ]
  },
  {
   "cell_type": "markdown",
   "metadata": {},
   "source": [
    "#### Functions"
   ]
  },
  {
   "cell_type": "code",
   "execution_count": 20,
   "metadata": {
    "collapsed": false
   },
   "outputs": [
    {
     "name": "stdout",
     "output_type": "stream",
     "text": [
      "[0, 1, 8, 27, 64, 125, 216, 343, 512, 729]\n",
      "[0, 2, 4, 6, 8, 10, 12, 14]\n",
      "-45\n"
     ]
    }
   ],
   "source": [
    "print map(lambda x: x ** 3, range(10))\n",
    "print filter(lambda x:x%2 == 0, range(15))\n",
    "print reduce(lambda x, y: x - y, range(10))"
   ]
  },
  {
   "cell_type": "code",
   "execution_count": 23,
   "metadata": {
    "collapsed": false
   },
   "outputs": [
    {
     "name": "stdout",
     "output_type": "stream",
     "text": [
      "set(['tomato', 'lemon', 'apple', 'brinjal', 'orange', 'raddish'])\n",
      "set(['tomato', 'lemon'])\n",
      "set(['orange', 'apple'])\n",
      "set(['apple', 'brinjal', 'orange', 'raddish'])\n"
     ]
    }
   ],
   "source": [
    "fruit = set(['apple','orange','lemon','tomato'])\n",
    "veg = set(['raddish','brinjal','lemon','tomato'])\n",
    "print fruit.union(veg)\n",
    "print fruit.intersection(veg)\n",
    "print fruit.difference(veg)\n",
    "print fruit.symmetric_difference(veg)  # in either one but not both"
   ]
  },
  {
   "cell_type": "code",
   "execution_count": null,
   "metadata": {
    "collapsed": true
   },
   "outputs": [],
   "source": [
    "#Basics\n",
    "my_list = [\"a\",\"b\",\"c\",\"d\"]\n",
    "print [elt for elt in my_list]\n",
    "print [elt + elt for elt in my_list]\n",
    "print [elt * elt for elt in range(10)] # print squares\n",
    "print [elt * elt for elt in range(10) if elt *  elt > 30] # print squares with condition"
   ]
  }
 ],
 "metadata": {
  "kernelspec": {
   "display_name": "Python 2",
   "language": "python",
   "name": "python2"
  },
  "language_info": {
   "codemirror_mode": {
    "name": "ipython",
    "version": 2
   },
   "file_extension": ".py",
   "mimetype": "text/x-python",
   "name": "python",
   "nbconvert_exporter": "python",
   "pygments_lexer": "ipython2",
   "version": "2.7.11"
  }
 },
 "nbformat": 4,
 "nbformat_minor": 0
}
